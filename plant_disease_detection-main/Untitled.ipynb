{
 "cells": [
  {
   "cell_type": "code",
   "execution_count": 6,
   "id": "f8a4f7e2-aa57-4451-9dd6-e64675ca146e",
   "metadata": {},
   "outputs": [
    {
     "name": "stdout",
     "output_type": "stream",
     "text": [
      "Current working directory: /Users/abhi/Desktop/plant_disease_detection-main\n",
      "Number of healthy leaf images in training set: 458\n",
      "Number of powdery leaf images in training set: 430\n",
      "Number of rusty leaf images in training set: 434\n",
      "========================================================\n",
      "Number of healthy leaf images in test set: 50\n",
      "Number of powdery leaf images in test set: 50\n",
      "Number of rusty leaf images in test set: 50\n",
      "========================================================\n",
      "Number of healthy leaf images in validation set: 20\n",
      "Number of powdery leaf images in validation set: 20\n",
      "Number of rusty leaf images in validation set: 20\n"
     ]
    }
   ],
   "source": [
    "import os\n",
    "\n",
    "# Print the current working directory to ensure it's correct\n",
    "print(\"Current working directory:\", os.getcwd())\n",
    "\n",
    "# Configuration section for paths (relative to the current working directory)\n",
    "script_dir = os.getcwd()\n",
    "\n",
    "train_files_healthy = os.path.join(script_dir, \"Dataset/Train/Healthy\")\n",
    "train_files_powdery = os.path.join(script_dir, \"Dataset/Train/Powdery\")\n",
    "train_files_rust = os.path.join(script_dir, \"Dataset/Train/Rust\")\n",
    "\n",
    "test_files_healthy = os.path.join(script_dir, \"Dataset/Test/Healthy\")\n",
    "test_files_powdery = os.path.join(script_dir, \"Dataset/Test/Powdery\")\n",
    "test_files_rust = os.path.join(script_dir, \"Dataset/Test/Rust\")\n",
    "\n",
    "valid_files_healthy = os.path.join(script_dir, \"Dataset/Validation/Healthy\")\n",
    "valid_files_powdery = os.path.join(script_dir, \"Dataset/Validation/Powdery\")\n",
    "valid_files_rust = os.path.join(script_dir, \"Dataset/Validation/Rust\")\n",
    "\n",
    "# Function to count total files in a directory\n",
    "def total_files(folder_path):\n",
    "    if not os.path.exists(folder_path):\n",
    "        return f\"Path does not exist: {folder_path}\"\n",
    "    num_files = len([f for f in os.listdir(folder_path) if os.path.isfile(os.path.join(folder_path, f))])\n",
    "    return num_files\n",
    "\n",
    "# Checking and printing the number of files\n",
    "print(\"Number of healthy leaf images in training set:\", total_files(train_files_healthy))\n",
    "print(\"Number of powdery leaf images in training set:\", total_files(train_files_powdery))\n",
    "print(\"Number of rusty leaf images in training set:\", total_files(train_files_rust))\n",
    "\n",
    "print(\"========================================================\")\n",
    "\n",
    "print(\"Number of healthy leaf images in test set:\", total_files(test_files_healthy))\n",
    "print(\"Number of powdery leaf images in test set:\", total_files(test_files_powdery))\n",
    "print(\"Number of rusty leaf images in test set:\", total_files(test_files_rust))\n",
    "\n",
    "print(\"========================================================\")\n",
    "\n",
    "print(\"Number of healthy leaf images in validation set:\", total_files(valid_files_healthy))\n",
    "print(\"Number of powdery leaf images in validation set:\", total_files(valid_files_powdery))\n",
    "print(\"Number of rusty leaf images in validation set:\", total_files(valid_files_rust))\n"
   ]
  },
  {
   "cell_type": "code",
   "execution_count": null,
   "id": "f58b3ab1-b58f-4e09-ad78-8df48fb48966",
   "metadata": {},
   "outputs": [],
   "source": []
  }
 ],
 "metadata": {
  "kernelspec": {
   "display_name": "Python 3 (ipykernel)",
   "language": "python",
   "name": "python3"
  },
  "language_info": {
   "codemirror_mode": {
    "name": "ipython",
    "version": 3
   },
   "file_extension": ".py",
   "mimetype": "text/x-python",
   "name": "python",
   "nbconvert_exporter": "python",
   "pygments_lexer": "ipython3",
   "version": "3.12.4"
  }
 },
 "nbformat": 4,
 "nbformat_minor": 5
}
